{
 "cells": [
  {
   "cell_type": "code",
   "execution_count": null,
   "id": "e6bedd0e-3036-4148-85f2-73ff014c32e3",
   "metadata": {},
   "outputs": [],
   "source": [
    "import kagglehub\n",
    "import pandas as pd\n",
    "import numpy as np\n",
    "from sklearn.neighbors import NearestNeighbors\n",
    "from sklearn.preprocessing import StandardScaler\n",
    "import pickle"
   ]
  },
  {
   "cell_type": "code",
   "execution_count": null,
   "id": "787c72b2-1d9a-4c93-b52b-ee8cb6328088",
   "metadata": {},
   "outputs": [],
   "source": [
    "path = kagglehub.dataset_download(\"joebeachcapital/30000-spotify-songs\")\n",
    "print(path)"
   ]
  },
  {
   "cell_type": "code",
   "execution_count": null,
   "id": "8349505e-552d-408d-97f2-102c2c59b8a8",
   "metadata": {},
   "outputs": [],
   "source": [
    "csv_path = r\"C:\\Users\\aarus\\.cache\\kagglehub\\datasets\\joebeachcapital\\30000-spotify-songs\\versions\\2\\spotify_songs.csv\"\n",
    "songs_data = pd.read_csv(csv_path)\n",
    "songs_data.head()"
   ]
  },
  {
   "cell_type": "code",
   "execution_count": null,
   "id": "d8ea10e1-e973-43cd-822a-581d6f4a6514",
   "metadata": {},
   "outputs": [],
   "source": [
    "songs = songs_data[[ 'track_id','track_name','track_artist','tempo', 'danceability', 'energy', 'loudness', 'key', 'mode']]"
   ]
  },
  {
   "cell_type": "code",
   "execution_count": null,
   "id": "6dfb910f-ac75-4f9a-8cbb-73364bc19d04",
   "metadata": {},
   "outputs": [],
   "source": [
    "songs = songs.dropna()"
   ]
  },
  {
   "cell_type": "code",
   "execution_count": null,
   "id": "5481ae61-0872-49dd-a1f6-244854bf6e0f",
   "metadata": {},
   "outputs": [],
   "source": [
    "songs.drop_duplicates(inplace=True)"
   ]
  },
  {
   "cell_type": "code",
   "execution_count": null,
   "id": "abcda3db-7bdb-4d42-af48-3df51d79aeb9",
   "metadata": {},
   "outputs": [],
   "source": [
    "songs.head()"
   ]
  },
  {
   "cell_type": "code",
   "execution_count": null,
   "id": "b65a8a29-7f96-4c64-b94e-a4cf09454ae1",
   "metadata": {},
   "outputs": [],
   "source": [
    "features = ['tempo', 'danceability', 'energy', 'loudness', 'key', 'mode']\n",
    "\n",
    "scaler = StandardScaler()\n",
    "songs[features] = scaler.fit_transform(songs[features])"
   ]
  },
  {
   "cell_type": "code",
   "execution_count": null,
   "id": "a6f23c1f-977b-48a5-bc43-534c8ac853b3",
   "metadata": {},
   "outputs": [],
   "source": [
    "songs.head()"
   ]
  },
  {
   "cell_type": "code",
   "execution_count": null,
   "id": "1d4d9062-091d-4931-a2e1-f69088930173",
   "metadata": {},
   "outputs": [],
   "source": [
    "knn = NearestNeighbors(n_neighbors=6, metric='cosine')\n",
    "knn.fit(songs[features])"
   ]
  },
  {
   "cell_type": "code",
   "execution_count": null,
   "id": "1e5367ee-58d2-4d26-b566-818b664f154b",
   "metadata": {},
   "outputs": [],
   "source": [
    "pickle.dump(songs,open('songs.pkl','wb'))"
   ]
  },
  {
   "cell_type": "code",
   "execution_count": null,
   "id": "da72dcce-5795-4503-a100-5c0787381a82",
   "metadata": {},
   "outputs": [],
   "source": [
    "distances, indices = knn.kneighbors(songs[features])"
   ]
  },
  {
   "cell_type": "code",
   "execution_count": null,
   "id": "36865556-f7db-4754-9dc0-012ea243d995",
   "metadata": {},
   "outputs": [],
   "source": [
    "similarity_matrix = pd.DataFrame(indices)\n",
    "similarity_matrix.to_csv('song_recommendations.csv', index=False, header=False)"
   ]
  }
 ],
 "metadata": {
  "kernelspec": {
   "display_name": "Python 3 (ipykernel)",
   "language": "python",
   "name": "python3"
  },
  "language_info": {
   "codemirror_mode": {
    "name": "ipython",
    "version": 3
   },
   "file_extension": ".py",
   "mimetype": "text/x-python",
   "name": "python",
   "nbconvert_exporter": "python",
   "pygments_lexer": "ipython3",
   "version": "3.12.5"
  }
 },
 "nbformat": 4,
 "nbformat_minor": 5
}
